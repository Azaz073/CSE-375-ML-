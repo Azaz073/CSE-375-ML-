{
  "nbformat": 4,
  "nbformat_minor": 0,
  "metadata": {
    "colab": {
      "provenance": []
    },
    "kernelspec": {
      "name": "python3",
      "display_name": "Python 3"
    },
    "language_info": {
      "name": "python"
    }
  },
  "cells": [
    {
      "cell_type": "code",
      "execution_count": 11,
      "metadata": {
        "id": "pS0KGgoXJoPM"
      },
      "outputs": [],
      "source": [
        "import numpy as np\n",
        "from sklearn.datasets import fetch_openml\n",
        "from sklearn.decomposition import PCA\n",
        "from sklearn.model_selection import train_test_split\n",
        "from sklearn.tree import DecisionTreeClassifier\n",
        "from sklearn.ensemble import RandomForestClassifier\n",
        "from sklearn.svm import SVC\n",
        "from sklearn.metrics import accuracy_score\n",
        "from sklearn.preprocessing import StandardScaler\n"
      ]
    },
    {
      "cell_type": "code",
      "source": [
        "# Load Fashion MNIST Dataset\n",
        "fashion_mnist = fetch_openml('Fashion-MNIST')\n",
        "\n",
        "X = fashion_mnist.data\n",
        "y = fashion_mnist.target"
      ],
      "metadata": {
        "colab": {
          "base_uri": "https://localhost:8080/"
        },
        "id": "MvCk75qZPwH-",
        "outputId": "b01b0ca4-8481-46df-877f-b2271244b069"
      },
      "execution_count": 2,
      "outputs": [
        {
          "output_type": "stream",
          "name": "stderr",
          "text": [
            "/usr/local/lib/python3.10/dist-packages/sklearn/datasets/_openml.py:1022: FutureWarning: The default value of `parser` will change from `'liac-arff'` to `'auto'` in 1.4. You can set `parser='auto'` to silence this warning. Therefore, an `ImportError` will be raised from 1.4 if the dataset is dense and pandas is not installed. Note that the pandas parser may return different data types. See the Notes Section in fetch_openml's API doc for details.\n",
            "  warn(\n"
          ]
        }
      ]
    },
    {
      "cell_type": "code",
      "source": [
        "#  Preprocess the Data\n",
        "X_train, X_test, y_train, y_test = train_test_split(X, y, test_size=0.2, random_state=42)\n",
        "\n",
        "# Standardize the data\n",
        "scaler = StandardScaler()\n",
        "X_train_scaled = scaler.fit_transform(X_train)\n",
        "X_test_scaled = scaler.transform(X_test)"
      ],
      "metadata": {
        "id": "4WrZzAxLP40N"
      },
      "execution_count": 3,
      "outputs": []
    },
    {
      "cell_type": "code",
      "source": [
        "# Apply PCA\n",
        "pca = PCA(n_components=0.95)  # Keep 95% of variance\n",
        "X_train_pca = pca.fit_transform(X_train_scaled)\n",
        "X_test_pca = pca.transform(X_test_scaled)\n"
      ],
      "metadata": {
        "id": "i-WekdRBQFk_"
      },
      "execution_count": 4,
      "outputs": []
    },
    {
      "cell_type": "code",
      "source": [
        "# Train and Evaluate Models Without PCA\n",
        "# Decision Tree\n",
        "dt_clf = DecisionTreeClassifier(random_state=42)\n",
        "dt_clf.fit(X_train_scaled, y_train)\n",
        "dt_pred = dt_clf.predict(X_test_scaled)\n",
        "dt_accuracy_without_pca = accuracy_score(y_test, dt_pred)"
      ],
      "metadata": {
        "id": "bOKHlfNaQLXe"
      },
      "execution_count": 5,
      "outputs": []
    },
    {
      "cell_type": "code",
      "source": [
        "# Random Forest\n",
        "rf_clf = RandomForestClassifier(random_state=42)\n",
        "rf_clf.fit(X_train_scaled, y_train)\n",
        "rf_pred = rf_clf.predict(X_test_scaled)\n",
        "rf_accuracy_without_pca = accuracy_score(y_test, rf_pred)"
      ],
      "metadata": {
        "id": "_xiivKhsQRSa"
      },
      "execution_count": 6,
      "outputs": []
    },
    {
      "cell_type": "code",
      "source": [
        "# SVM\n",
        "svm_clf = SVC(random_state=42)\n",
        "svm_clf.fit(X_train_scaled, y_train)\n",
        "svm_pred = svm_clf.predict(X_test_scaled)\n",
        "svm_accuracy_without_pca = accuracy_score(y_test, svm_pred)"
      ],
      "metadata": {
        "id": "MWKULfS7QeeU"
      },
      "execution_count": 7,
      "outputs": []
    },
    {
      "cell_type": "code",
      "source": [
        "# Train and Evaluate Models With PCA\n",
        "# Decision Tree\n",
        "dt_clf_pca = DecisionTreeClassifier(random_state=42)\n",
        "dt_clf_pca.fit(X_train_pca, y_train)\n",
        "dt_pred_pca = dt_clf_pca.predict(X_test_pca)\n",
        "dt_accuracy_with_pca = accuracy_score(y_test, dt_pred_pca)"
      ],
      "metadata": {
        "id": "6TC62hldQfuS"
      },
      "execution_count": 8,
      "outputs": []
    },
    {
      "cell_type": "code",
      "source": [
        "# Random Forest\n",
        "rf_clf_pca = RandomForestClassifier(random_state=42)\n",
        "rf_clf_pca.fit(X_train_pca, y_train)\n",
        "rf_pred_pca = rf_clf_pca.predict(X_test_pca)\n",
        "rf_accuracy_with_pca = accuracy_score(y_test, rf_pred_pca)"
      ],
      "metadata": {
        "id": "DUOZn6B9QoYc"
      },
      "execution_count": 9,
      "outputs": []
    },
    {
      "cell_type": "code",
      "source": [
        "# SVM\n",
        "svm_clf_pca = SVC(random_state=42)\n",
        "svm_clf_pca.fit(X_train_pca, y_train)\n",
        "svm_pred_pca = svm_clf_pca.predict(X_test_pca)\n",
        "svm_accuracy_with_pca = accuracy_score(y_test, svm_pred_pca)"
      ],
      "metadata": {
        "id": "_1cICBEdQplE"
      },
      "execution_count": 10,
      "outputs": []
    },
    {
      "cell_type": "code",
      "source": [
        "# Compare Results\n",
        "print(\"Accuracy without PCA:\")\n",
        "print(f\"Decision Tree: {dt_accuracy_without_pca:.4f}\")\n",
        "print(f\"Random Forest: {rf_accuracy_without_pca:.4f}\")\n",
        "print(f\"SVM: {svm_accuracy_without_pca:.4f}\")\n",
        "\n",
        "print(\"\\nAccuracy with PCA:\")\n",
        "print(f\"Decision Tree: {dt_accuracy_with_pca:.4f}\")\n",
        "print(f\"Random Forest: {rf_accuracy_with_pca:.4f}\")\n",
        "print(f\"SVM: {svm_accuracy_with_pca:.4f}\")\n"
      ],
      "metadata": {
        "colab": {
          "base_uri": "https://localhost:8080/"
        },
        "id": "xo7jIjyAQ1uG",
        "outputId": "ae8abcda-e088-46ea-e65f-8dfa7952f61d"
      },
      "execution_count": 12,
      "outputs": [
        {
          "output_type": "stream",
          "name": "stdout",
          "text": [
            "Accuracy without PCA:\n",
            "Decision Tree: 0.7935\n",
            "Random Forest: 0.8827\n",
            "SVM: 0.8905\n",
            "\n",
            "Accuracy with PCA:\n",
            "Decision Tree: 0.7626\n",
            "Random Forest: 0.8651\n",
            "SVM: 0.8904\n"
          ]
        }
      ]
    }
  ]
}